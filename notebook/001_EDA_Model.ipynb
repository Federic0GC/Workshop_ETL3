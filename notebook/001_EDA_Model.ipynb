{
 "cells": [
  {
   "cell_type": "markdown",
   "id": "99db89ca",
   "metadata": {},
   "source": [
    "# Workshop_ETL3"
   ]
  },
  {
   "cell_type": "markdown",
   "id": "81966e15",
   "metadata": {},
   "source": [
    "## Importacion de los datos"
   ]
  },
  {
   "cell_type": "code",
   "execution_count": 1,
   "id": "a3431c68",
   "metadata": {},
   "outputs": [],
   "source": [
    "import pandas as pd\n",
    "import joblib\n",
    "import numpy as np\n",
    "import os\n",
    "import seaborn as sns\n",
    "import matplotlib.pyplot as plt\n",
    "from sklearn.model_selection import train_test_split\n",
    "from sklearn.ensemble import RandomForestRegressor\n",
    "from sklearn.metrics import mean_squared_error, r2_score"
   ]
  },
  {
   "cell_type": "markdown",
   "id": "5bda20ed",
   "metadata": {},
   "source": [
    "## Data del 2015"
   ]
  },
  {
   "cell_type": "code",
   "execution_count": 2,
   "id": "41a97396",
   "metadata": {},
   "outputs": [
    {
     "name": "stdout",
     "output_type": "stream",
     "text": [
      "<class 'pandas.core.frame.DataFrame'>\n",
      "RangeIndex: 158 entries, 0 to 157\n",
      "Data columns (total 12 columns):\n",
      " #   Column                         Non-Null Count  Dtype  \n",
      "---  ------                         --------------  -----  \n",
      " 0   Country                        158 non-null    object \n",
      " 1   Region                         158 non-null    object \n",
      " 2   Happiness Rank                 158 non-null    int64  \n",
      " 3   Happiness Score                158 non-null    float64\n",
      " 4   Standard Error                 158 non-null    float64\n",
      " 5   Economy (GDP per Capita)       158 non-null    float64\n",
      " 6   Family                         158 non-null    float64\n",
      " 7   Health (Life Expectancy)       158 non-null    float64\n",
      " 8   Freedom                        158 non-null    float64\n",
      " 9   Trust (Government Corruption)  158 non-null    float64\n",
      " 10  Generosity                     158 non-null    float64\n",
      " 11  Dystopia Residual              158 non-null    float64\n",
      "dtypes: float64(9), int64(1), object(2)\n",
      "memory usage: 14.9+ KB\n",
      "None\n"
     ]
    }
   ],
   "source": [
    "data_2015_csv = '../data/2015.csv' \n",
    "data_2015 = pd.read_csv(data_2015_csv, delimiter=',') \n",
    "#print(data_2015.head())\n",
    "print(data_2015.info())"
   ]
  },
  {
   "cell_type": "markdown",
   "id": "04f29e0a",
   "metadata": {},
   "source": [
    "## Data del 2016"
   ]
  },
  {
   "cell_type": "code",
   "execution_count": 3,
   "id": "7732a5fb",
   "metadata": {},
   "outputs": [
    {
     "name": "stdout",
     "output_type": "stream",
     "text": [
      "<class 'pandas.core.frame.DataFrame'>\n",
      "RangeIndex: 157 entries, 0 to 156\n",
      "Data columns (total 13 columns):\n",
      " #   Column                         Non-Null Count  Dtype  \n",
      "---  ------                         --------------  -----  \n",
      " 0   Country                        157 non-null    object \n",
      " 1   Region                         157 non-null    object \n",
      " 2   Happiness Rank                 157 non-null    int64  \n",
      " 3   Happiness Score                157 non-null    float64\n",
      " 4   Lower Confidence Interval      157 non-null    float64\n",
      " 5   Upper Confidence Interval      157 non-null    float64\n",
      " 6   Economy (GDP per Capita)       157 non-null    float64\n",
      " 7   Family                         157 non-null    float64\n",
      " 8   Health (Life Expectancy)       157 non-null    float64\n",
      " 9   Freedom                        157 non-null    float64\n",
      " 10  Trust (Government Corruption)  157 non-null    float64\n",
      " 11  Generosity                     157 non-null    float64\n",
      " 12  Dystopia Residual              157 non-null    float64\n",
      "dtypes: float64(10), int64(1), object(2)\n",
      "memory usage: 16.1+ KB\n",
      "None\n"
     ]
    }
   ],
   "source": [
    "data_2016_csv = '../data/2016.csv' \n",
    "data_2016 = pd.read_csv(data_2016_csv, delimiter=',') \n",
    "#print(data_2016.head())\n",
    "print(data_2016.info())"
   ]
  },
  {
   "cell_type": "markdown",
   "id": "7bc19025",
   "metadata": {},
   "source": [
    "## Data del 2017"
   ]
  },
  {
   "cell_type": "code",
   "execution_count": 4,
   "id": "551c1e58",
   "metadata": {},
   "outputs": [
    {
     "name": "stdout",
     "output_type": "stream",
     "text": [
      "<class 'pandas.core.frame.DataFrame'>\n",
      "RangeIndex: 155 entries, 0 to 154\n",
      "Data columns (total 12 columns):\n",
      " #   Column                         Non-Null Count  Dtype  \n",
      "---  ------                         --------------  -----  \n",
      " 0   Country                        155 non-null    object \n",
      " 1   Happiness.Rank                 155 non-null    int64  \n",
      " 2   Happiness.Score                155 non-null    float64\n",
      " 3   Whisker.high                   155 non-null    float64\n",
      " 4   Whisker.low                    155 non-null    float64\n",
      " 5   Economy..GDP.per.Capita.       155 non-null    float64\n",
      " 6   Family                         155 non-null    float64\n",
      " 7   Health..Life.Expectancy.       155 non-null    float64\n",
      " 8   Freedom                        155 non-null    float64\n",
      " 9   Generosity                     155 non-null    float64\n",
      " 10  Trust..Government.Corruption.  155 non-null    float64\n",
      " 11  Dystopia.Residual              155 non-null    float64\n",
      "dtypes: float64(10), int64(1), object(1)\n",
      "memory usage: 14.7+ KB\n",
      "None\n"
     ]
    }
   ],
   "source": [
    "data_2017_csv = '../data/2017.csv' \n",
    "data_2017 = pd.read_csv(data_2017_csv, delimiter=',') \n",
    "#print(data_2017.head())\n",
    "print(data_2017.info())"
   ]
  },
  {
   "cell_type": "markdown",
   "id": "3fd7e577",
   "metadata": {},
   "source": [
    "## Data del 2018"
   ]
  },
  {
   "cell_type": "code",
   "execution_count": 5,
   "id": "fe5b53c6",
   "metadata": {},
   "outputs": [
    {
     "name": "stdout",
     "output_type": "stream",
     "text": [
      "<class 'pandas.core.frame.DataFrame'>\n",
      "RangeIndex: 156 entries, 0 to 155\n",
      "Data columns (total 9 columns):\n",
      " #   Column                        Non-Null Count  Dtype  \n",
      "---  ------                        --------------  -----  \n",
      " 0   Overall rank                  156 non-null    int64  \n",
      " 1   Country or region             156 non-null    object \n",
      " 2   Score                         156 non-null    float64\n",
      " 3   GDP per capita                156 non-null    float64\n",
      " 4   Social support                156 non-null    float64\n",
      " 5   Healthy life expectancy       156 non-null    float64\n",
      " 6   Freedom to make life choices  156 non-null    float64\n",
      " 7   Generosity                    156 non-null    float64\n",
      " 8   Perceptions of corruption     155 non-null    float64\n",
      "dtypes: float64(7), int64(1), object(1)\n",
      "memory usage: 11.1+ KB\n",
      "None\n"
     ]
    }
   ],
   "source": [
    "data_2018_csv = '../data/2018.csv' \n",
    "data_2018 = pd.read_csv(data_2018_csv, delimiter=',') \n",
    "#print(data_2018.head())\n",
    "print(data_2018.info())"
   ]
  },
  {
   "cell_type": "markdown",
   "id": "bc40478a",
   "metadata": {},
   "source": [
    "## Data del 2019"
   ]
  },
  {
   "cell_type": "code",
   "execution_count": 6,
   "id": "8314e336",
   "metadata": {},
   "outputs": [
    {
     "name": "stdout",
     "output_type": "stream",
     "text": [
      "<class 'pandas.core.frame.DataFrame'>\n",
      "RangeIndex: 156 entries, 0 to 155\n",
      "Data columns (total 9 columns):\n",
      " #   Column                        Non-Null Count  Dtype  \n",
      "---  ------                        --------------  -----  \n",
      " 0   Overall rank                  156 non-null    int64  \n",
      " 1   Country or region             156 non-null    object \n",
      " 2   Score                         156 non-null    float64\n",
      " 3   GDP per capita                156 non-null    float64\n",
      " 4   Social support                156 non-null    float64\n",
      " 5   Healthy life expectancy       156 non-null    float64\n",
      " 6   Freedom to make life choices  156 non-null    float64\n",
      " 7   Generosity                    156 non-null    float64\n",
      " 8   Perceptions of corruption     156 non-null    float64\n",
      "dtypes: float64(7), int64(1), object(1)\n",
      "memory usage: 11.1+ KB\n",
      "None\n"
     ]
    }
   ],
   "source": [
    "data_2019_csv = '../data/2019.csv' \n",
    "data_2019 = pd.read_csv(data_2019_csv, delimiter=',') \n",
    "#print(data_2019.head())\n",
    "print(data_2019.info())"
   ]
  },
  {
   "cell_type": "markdown",
   "id": "a7bbded1",
   "metadata": {},
   "source": [
    "## Analisis de las columnas del dataset (2015)"
   ]
  },
  {
   "cell_type": "code",
   "execution_count": 7,
   "id": "31e2e05a",
   "metadata": {},
   "outputs": [
    {
     "data": {
      "text/html": [
       "<div>\n",
       "<style scoped>\n",
       "    .dataframe tbody tr th:only-of-type {\n",
       "        vertical-align: middle;\n",
       "    }\n",
       "\n",
       "    .dataframe tbody tr th {\n",
       "        vertical-align: top;\n",
       "    }\n",
       "\n",
       "    .dataframe thead th {\n",
       "        text-align: right;\n",
       "    }\n",
       "</style>\n",
       "<table border=\"1\" class=\"dataframe\">\n",
       "  <thead>\n",
       "    <tr style=\"text-align: right;\">\n",
       "      <th></th>\n",
       "      <th>Country</th>\n",
       "      <th>Region</th>\n",
       "      <th>Happiness Rank</th>\n",
       "      <th>Happiness Score</th>\n",
       "      <th>Standard Error</th>\n",
       "      <th>Economy (GDP per Capita)</th>\n",
       "      <th>Family</th>\n",
       "      <th>Health (Life Expectancy)</th>\n",
       "      <th>Freedom</th>\n",
       "      <th>Trust (Government Corruption)</th>\n",
       "      <th>Generosity</th>\n",
       "      <th>Dystopia Residual</th>\n",
       "    </tr>\n",
       "  </thead>\n",
       "  <tbody>\n",
       "    <tr>\n",
       "      <th>0</th>\n",
       "      <td>Switzerland</td>\n",
       "      <td>Western Europe</td>\n",
       "      <td>1</td>\n",
       "      <td>7.587</td>\n",
       "      <td>0.03411</td>\n",
       "      <td>1.39651</td>\n",
       "      <td>1.34951</td>\n",
       "      <td>0.94143</td>\n",
       "      <td>0.66557</td>\n",
       "      <td>0.41978</td>\n",
       "      <td>0.29678</td>\n",
       "      <td>2.51738</td>\n",
       "    </tr>\n",
       "    <tr>\n",
       "      <th>1</th>\n",
       "      <td>Iceland</td>\n",
       "      <td>Western Europe</td>\n",
       "      <td>2</td>\n",
       "      <td>7.561</td>\n",
       "      <td>0.04884</td>\n",
       "      <td>1.30232</td>\n",
       "      <td>1.40223</td>\n",
       "      <td>0.94784</td>\n",
       "      <td>0.62877</td>\n",
       "      <td>0.14145</td>\n",
       "      <td>0.43630</td>\n",
       "      <td>2.70201</td>\n",
       "    </tr>\n",
       "    <tr>\n",
       "      <th>2</th>\n",
       "      <td>Denmark</td>\n",
       "      <td>Western Europe</td>\n",
       "      <td>3</td>\n",
       "      <td>7.527</td>\n",
       "      <td>0.03328</td>\n",
       "      <td>1.32548</td>\n",
       "      <td>1.36058</td>\n",
       "      <td>0.87464</td>\n",
       "      <td>0.64938</td>\n",
       "      <td>0.48357</td>\n",
       "      <td>0.34139</td>\n",
       "      <td>2.49204</td>\n",
       "    </tr>\n",
       "    <tr>\n",
       "      <th>3</th>\n",
       "      <td>Norway</td>\n",
       "      <td>Western Europe</td>\n",
       "      <td>4</td>\n",
       "      <td>7.522</td>\n",
       "      <td>0.03880</td>\n",
       "      <td>1.45900</td>\n",
       "      <td>1.33095</td>\n",
       "      <td>0.88521</td>\n",
       "      <td>0.66973</td>\n",
       "      <td>0.36503</td>\n",
       "      <td>0.34699</td>\n",
       "      <td>2.46531</td>\n",
       "    </tr>\n",
       "    <tr>\n",
       "      <th>4</th>\n",
       "      <td>Canada</td>\n",
       "      <td>North America</td>\n",
       "      <td>5</td>\n",
       "      <td>7.427</td>\n",
       "      <td>0.03553</td>\n",
       "      <td>1.32629</td>\n",
       "      <td>1.32261</td>\n",
       "      <td>0.90563</td>\n",
       "      <td>0.63297</td>\n",
       "      <td>0.32957</td>\n",
       "      <td>0.45811</td>\n",
       "      <td>2.45176</td>\n",
       "    </tr>\n",
       "  </tbody>\n",
       "</table>\n",
       "</div>"
      ],
      "text/plain": [
       "       Country          Region  Happiness Rank  Happiness Score  \\\n",
       "0  Switzerland  Western Europe               1            7.587   \n",
       "1      Iceland  Western Europe               2            7.561   \n",
       "2      Denmark  Western Europe               3            7.527   \n",
       "3       Norway  Western Europe               4            7.522   \n",
       "4       Canada   North America               5            7.427   \n",
       "\n",
       "   Standard Error  Economy (GDP per Capita)   Family  \\\n",
       "0         0.03411                   1.39651  1.34951   \n",
       "1         0.04884                   1.30232  1.40223   \n",
       "2         0.03328                   1.32548  1.36058   \n",
       "3         0.03880                   1.45900  1.33095   \n",
       "4         0.03553                   1.32629  1.32261   \n",
       "\n",
       "   Health (Life Expectancy)  Freedom  Trust (Government Corruption)  \\\n",
       "0                   0.94143  0.66557                        0.41978   \n",
       "1                   0.94784  0.62877                        0.14145   \n",
       "2                   0.87464  0.64938                        0.48357   \n",
       "3                   0.88521  0.66973                        0.36503   \n",
       "4                   0.90563  0.63297                        0.32957   \n",
       "\n",
       "   Generosity  Dystopia Residual  \n",
       "0     0.29678            2.51738  \n",
       "1     0.43630            2.70201  \n",
       "2     0.34139            2.49204  \n",
       "3     0.34699            2.46531  \n",
       "4     0.45811            2.45176  "
      ]
     },
     "execution_count": 7,
     "metadata": {},
     "output_type": "execute_result"
    }
   ],
   "source": [
    "data_2015.head()"
   ]
  },
  {
   "cell_type": "markdown",
   "id": "c4e4fcd5",
   "metadata": {},
   "source": [
    "## Revision de valores nulos en los datasets (2015)"
   ]
  },
  {
   "cell_type": "code",
   "execution_count": 8,
   "id": "565041b0",
   "metadata": {},
   "outputs": [
    {
     "name": "stdout",
     "output_type": "stream",
     "text": [
      "Country                          0\n",
      "Region                           0\n",
      "Happiness Rank                   0\n",
      "Happiness Score                  0\n",
      "Standard Error                   0\n",
      "Economy (GDP per Capita)         0\n",
      "Family                           0\n",
      "Health (Life Expectancy)         0\n",
      "Freedom                          0\n",
      "Trust (Government Corruption)    0\n",
      "Generosity                       0\n",
      "Dystopia Residual                0\n",
      "dtype: int64\n"
     ]
    }
   ],
   "source": [
    "print(data_2015.isnull().sum())\n"
   ]
  },
  {
   "cell_type": "markdown",
   "id": "f138b86c",
   "metadata": {},
   "source": [
    "## Revision de valores duplicados (2015)"
   ]
  },
  {
   "cell_type": "code",
   "execution_count": 9,
   "id": "dbce67e7",
   "metadata": {},
   "outputs": [
    {
     "name": "stdout",
     "output_type": "stream",
     "text": [
      "Cantidad de filas duplicadas en data_2015: 0\n"
     ]
    }
   ],
   "source": [
    "# Suponiendo que data_2015 es tu DataFrame\n",
    "duplicados = data_2015.duplicated().sum()\n",
    "\n",
    "# Imprimir la cantidad de filas duplicadas\n",
    "print(\"Cantidad de filas duplicadas en data_2015:\", duplicados)"
   ]
  },
  {
   "cell_type": "markdown",
   "id": "d55427e2",
   "metadata": {},
   "source": [
    "## Numero de filas y columnas (2015)"
   ]
  },
  {
   "cell_type": "code",
   "execution_count": 10,
   "id": "996523a4",
   "metadata": {},
   "outputs": [
    {
     "name": "stdout",
     "output_type": "stream",
     "text": [
      "Número de filas en data_2015: 158\n",
      "Número de columnas en data_2015: 12\n"
     ]
    }
   ],
   "source": [
    "# Obtener la forma (número de filas y columnas) del DataFrame\n",
    "filas, columnas = data_2015.shape\n",
    "\n",
    "# Imprimir el número de filas y columnas\n",
    "print(\"Número de filas en data_2015:\", filas)\n",
    "print(\"Número de columnas en data_2015:\", columnas)\n"
   ]
  },
  {
   "cell_type": "markdown",
   "id": "73e49995",
   "metadata": {},
   "source": [
    "## Normalizacion de los nombres de las columnas (2015)"
   ]
  },
  {
   "cell_type": "code",
   "execution_count": 11,
   "id": "bab504e9",
   "metadata": {},
   "outputs": [
    {
     "name": "stdout",
     "output_type": "stream",
     "text": [
      "       country          region  happiness rank  happiness score  \\\n",
      "0  Switzerland  Western Europe               1            7.587   \n",
      "1      Iceland  Western Europe               2            7.561   \n",
      "2      Denmark  Western Europe               3            7.527   \n",
      "3       Norway  Western Europe               4            7.522   \n",
      "4       Canada   North America               5            7.427   \n",
      "\n",
      "   standard error  economy (gdp per capita)   family  \\\n",
      "0         0.03411                   1.39651  1.34951   \n",
      "1         0.04884                   1.30232  1.40223   \n",
      "2         0.03328                   1.32548  1.36058   \n",
      "3         0.03880                   1.45900  1.33095   \n",
      "4         0.03553                   1.32629  1.32261   \n",
      "\n",
      "   health (life expectancy)  freedom  trust (government corruption)  \\\n",
      "0                   0.94143  0.66557                        0.41978   \n",
      "1                   0.94784  0.62877                        0.14145   \n",
      "2                   0.87464  0.64938                        0.48357   \n",
      "3                   0.88521  0.66973                        0.36503   \n",
      "4                   0.90563  0.63297                        0.32957   \n",
      "\n",
      "   generosity  dystopia residual  \n",
      "0     0.29678            2.51738  \n",
      "1     0.43630            2.70201  \n",
      "2     0.34139            2.49204  \n",
      "3     0.34699            2.46531  \n",
      "4     0.45811            2.45176  \n"
     ]
    }
   ],
   "source": [
    "# Convertir los nombres de las columnas a minúsculas\n",
    "data_2015.columns = data_2015.columns.str.lower()\n",
    "\n",
    "# Mostrar las primeras filas del DataFrame con los nombres de las columnas en minúsculas\n",
    "print(data_2015.head())\n",
    "\n"
   ]
  },
  {
   "cell_type": "markdown",
   "id": "89dc772a",
   "metadata": {},
   "source": [
    "## Analisis de las columnas del dataset (2016)"
   ]
  },
  {
   "cell_type": "code",
   "execution_count": 12,
   "id": "0517c477",
   "metadata": {},
   "outputs": [
    {
     "data": {
      "text/html": [
       "<div>\n",
       "<style scoped>\n",
       "    .dataframe tbody tr th:only-of-type {\n",
       "        vertical-align: middle;\n",
       "    }\n",
       "\n",
       "    .dataframe tbody tr th {\n",
       "        vertical-align: top;\n",
       "    }\n",
       "\n",
       "    .dataframe thead th {\n",
       "        text-align: right;\n",
       "    }\n",
       "</style>\n",
       "<table border=\"1\" class=\"dataframe\">\n",
       "  <thead>\n",
       "    <tr style=\"text-align: right;\">\n",
       "      <th></th>\n",
       "      <th>Country</th>\n",
       "      <th>Region</th>\n",
       "      <th>Happiness Rank</th>\n",
       "      <th>Happiness Score</th>\n",
       "      <th>Lower Confidence Interval</th>\n",
       "      <th>Upper Confidence Interval</th>\n",
       "      <th>Economy (GDP per Capita)</th>\n",
       "      <th>Family</th>\n",
       "      <th>Health (Life Expectancy)</th>\n",
       "      <th>Freedom</th>\n",
       "      <th>Trust (Government Corruption)</th>\n",
       "      <th>Generosity</th>\n",
       "      <th>Dystopia Residual</th>\n",
       "    </tr>\n",
       "  </thead>\n",
       "  <tbody>\n",
       "    <tr>\n",
       "      <th>0</th>\n",
       "      <td>Denmark</td>\n",
       "      <td>Western Europe</td>\n",
       "      <td>1</td>\n",
       "      <td>7.526</td>\n",
       "      <td>7.460</td>\n",
       "      <td>7.592</td>\n",
       "      <td>1.44178</td>\n",
       "      <td>1.16374</td>\n",
       "      <td>0.79504</td>\n",
       "      <td>0.57941</td>\n",
       "      <td>0.44453</td>\n",
       "      <td>0.36171</td>\n",
       "      <td>2.73939</td>\n",
       "    </tr>\n",
       "    <tr>\n",
       "      <th>1</th>\n",
       "      <td>Switzerland</td>\n",
       "      <td>Western Europe</td>\n",
       "      <td>2</td>\n",
       "      <td>7.509</td>\n",
       "      <td>7.428</td>\n",
       "      <td>7.590</td>\n",
       "      <td>1.52733</td>\n",
       "      <td>1.14524</td>\n",
       "      <td>0.86303</td>\n",
       "      <td>0.58557</td>\n",
       "      <td>0.41203</td>\n",
       "      <td>0.28083</td>\n",
       "      <td>2.69463</td>\n",
       "    </tr>\n",
       "    <tr>\n",
       "      <th>2</th>\n",
       "      <td>Iceland</td>\n",
       "      <td>Western Europe</td>\n",
       "      <td>3</td>\n",
       "      <td>7.501</td>\n",
       "      <td>7.333</td>\n",
       "      <td>7.669</td>\n",
       "      <td>1.42666</td>\n",
       "      <td>1.18326</td>\n",
       "      <td>0.86733</td>\n",
       "      <td>0.56624</td>\n",
       "      <td>0.14975</td>\n",
       "      <td>0.47678</td>\n",
       "      <td>2.83137</td>\n",
       "    </tr>\n",
       "    <tr>\n",
       "      <th>3</th>\n",
       "      <td>Norway</td>\n",
       "      <td>Western Europe</td>\n",
       "      <td>4</td>\n",
       "      <td>7.498</td>\n",
       "      <td>7.421</td>\n",
       "      <td>7.575</td>\n",
       "      <td>1.57744</td>\n",
       "      <td>1.12690</td>\n",
       "      <td>0.79579</td>\n",
       "      <td>0.59609</td>\n",
       "      <td>0.35776</td>\n",
       "      <td>0.37895</td>\n",
       "      <td>2.66465</td>\n",
       "    </tr>\n",
       "    <tr>\n",
       "      <th>4</th>\n",
       "      <td>Finland</td>\n",
       "      <td>Western Europe</td>\n",
       "      <td>5</td>\n",
       "      <td>7.413</td>\n",
       "      <td>7.351</td>\n",
       "      <td>7.475</td>\n",
       "      <td>1.40598</td>\n",
       "      <td>1.13464</td>\n",
       "      <td>0.81091</td>\n",
       "      <td>0.57104</td>\n",
       "      <td>0.41004</td>\n",
       "      <td>0.25492</td>\n",
       "      <td>2.82596</td>\n",
       "    </tr>\n",
       "  </tbody>\n",
       "</table>\n",
       "</div>"
      ],
      "text/plain": [
       "       Country          Region  Happiness Rank  Happiness Score  \\\n",
       "0      Denmark  Western Europe               1            7.526   \n",
       "1  Switzerland  Western Europe               2            7.509   \n",
       "2      Iceland  Western Europe               3            7.501   \n",
       "3       Norway  Western Europe               4            7.498   \n",
       "4      Finland  Western Europe               5            7.413   \n",
       "\n",
       "   Lower Confidence Interval  Upper Confidence Interval  \\\n",
       "0                      7.460                      7.592   \n",
       "1                      7.428                      7.590   \n",
       "2                      7.333                      7.669   \n",
       "3                      7.421                      7.575   \n",
       "4                      7.351                      7.475   \n",
       "\n",
       "   Economy (GDP per Capita)   Family  Health (Life Expectancy)  Freedom  \\\n",
       "0                   1.44178  1.16374                   0.79504  0.57941   \n",
       "1                   1.52733  1.14524                   0.86303  0.58557   \n",
       "2                   1.42666  1.18326                   0.86733  0.56624   \n",
       "3                   1.57744  1.12690                   0.79579  0.59609   \n",
       "4                   1.40598  1.13464                   0.81091  0.57104   \n",
       "\n",
       "   Trust (Government Corruption)  Generosity  Dystopia Residual  \n",
       "0                        0.44453     0.36171            2.73939  \n",
       "1                        0.41203     0.28083            2.69463  \n",
       "2                        0.14975     0.47678            2.83137  \n",
       "3                        0.35776     0.37895            2.66465  \n",
       "4                        0.41004     0.25492            2.82596  "
      ]
     },
     "execution_count": 12,
     "metadata": {},
     "output_type": "execute_result"
    }
   ],
   "source": [
    "data_2016.head()"
   ]
  },
  {
   "cell_type": "markdown",
   "id": "d48d8c77",
   "metadata": {},
   "source": [
    "## Revision de valores nulos en los datasets (2016)"
   ]
  },
  {
   "cell_type": "code",
   "execution_count": 13,
   "id": "c7c5962c",
   "metadata": {},
   "outputs": [
    {
     "name": "stdout",
     "output_type": "stream",
     "text": [
      "Country                          0\n",
      "Region                           0\n",
      "Happiness Rank                   0\n",
      "Happiness Score                  0\n",
      "Lower Confidence Interval        0\n",
      "Upper Confidence Interval        0\n",
      "Economy (GDP per Capita)         0\n",
      "Family                           0\n",
      "Health (Life Expectancy)         0\n",
      "Freedom                          0\n",
      "Trust (Government Corruption)    0\n",
      "Generosity                       0\n",
      "Dystopia Residual                0\n",
      "dtype: int64\n"
     ]
    }
   ],
   "source": [
    "print(data_2016.isnull().sum())"
   ]
  },
  {
   "cell_type": "markdown",
   "id": "dbe01bc0",
   "metadata": {},
   "source": [
    "## Numero de filas y columnas (2016)"
   ]
  },
  {
   "cell_type": "code",
   "execution_count": 14,
   "id": "e859fd88",
   "metadata": {},
   "outputs": [
    {
     "name": "stdout",
     "output_type": "stream",
     "text": [
      "Número de filas en data_2015: 157\n",
      "Número de columnas en data_2015: 13\n"
     ]
    }
   ],
   "source": [
    "# Obtener la forma (número de filas y columnas) del DataFrame\n",
    "filas, columnas = data_2016.shape\n",
    "\n",
    "# Imprimir el número de filas y columnas\n",
    "print(\"Número de filas en data_2015:\", filas)\n",
    "print(\"Número de columnas en data_2015:\", columnas)"
   ]
  },
  {
   "cell_type": "markdown",
   "id": "cc51c348",
   "metadata": {},
   "source": [
    "## Normalizacion de los nombres de las columnas (2016)"
   ]
  },
  {
   "cell_type": "code",
   "execution_count": 15,
   "id": "a755361c",
   "metadata": {},
   "outputs": [
    {
     "name": "stdout",
     "output_type": "stream",
     "text": [
      "       country          region  happiness rank  happiness score  \\\n",
      "0      Denmark  Western Europe               1            7.526   \n",
      "1  Switzerland  Western Europe               2            7.509   \n",
      "2      Iceland  Western Europe               3            7.501   \n",
      "3       Norway  Western Europe               4            7.498   \n",
      "4      Finland  Western Europe               5            7.413   \n",
      "\n",
      "   lower confidence interval  upper confidence interval  \\\n",
      "0                      7.460                      7.592   \n",
      "1                      7.428                      7.590   \n",
      "2                      7.333                      7.669   \n",
      "3                      7.421                      7.575   \n",
      "4                      7.351                      7.475   \n",
      "\n",
      "   economy (gdp per capita)   family  health (life expectancy)  freedom  \\\n",
      "0                   1.44178  1.16374                   0.79504  0.57941   \n",
      "1                   1.52733  1.14524                   0.86303  0.58557   \n",
      "2                   1.42666  1.18326                   0.86733  0.56624   \n",
      "3                   1.57744  1.12690                   0.79579  0.59609   \n",
      "4                   1.40598  1.13464                   0.81091  0.57104   \n",
      "\n",
      "   trust (government corruption)  generosity  dystopia residual  \n",
      "0                        0.44453     0.36171            2.73939  \n",
      "1                        0.41203     0.28083            2.69463  \n",
      "2                        0.14975     0.47678            2.83137  \n",
      "3                        0.35776     0.37895            2.66465  \n",
      "4                        0.41004     0.25492            2.82596  \n"
     ]
    }
   ],
   "source": [
    "# Convertir los nombres de las columnas a minúsculas\n",
    "data_2016.columns = data_2016.columns.str.lower()\n",
    "\n",
    "# Mostrar las primeras filas del DataFrame con los nombres de las columnas en minúsculas\n",
    "print(data_2016.head())\n"
   ]
  },
  {
   "cell_type": "markdown",
   "id": "4201a407",
   "metadata": {},
   "source": [
    "## Analisis de las columnas del dataset (2017)"
   ]
  },
  {
   "cell_type": "code",
   "execution_count": 16,
   "id": "c5183044",
   "metadata": {},
   "outputs": [
    {
     "data": {
      "text/html": [
       "<div>\n",
       "<style scoped>\n",
       "    .dataframe tbody tr th:only-of-type {\n",
       "        vertical-align: middle;\n",
       "    }\n",
       "\n",
       "    .dataframe tbody tr th {\n",
       "        vertical-align: top;\n",
       "    }\n",
       "\n",
       "    .dataframe thead th {\n",
       "        text-align: right;\n",
       "    }\n",
       "</style>\n",
       "<table border=\"1\" class=\"dataframe\">\n",
       "  <thead>\n",
       "    <tr style=\"text-align: right;\">\n",
       "      <th></th>\n",
       "      <th>Country</th>\n",
       "      <th>Happiness.Rank</th>\n",
       "      <th>Happiness.Score</th>\n",
       "      <th>Whisker.high</th>\n",
       "      <th>Whisker.low</th>\n",
       "      <th>Economy..GDP.per.Capita.</th>\n",
       "      <th>Family</th>\n",
       "      <th>Health..Life.Expectancy.</th>\n",
       "      <th>Freedom</th>\n",
       "      <th>Generosity</th>\n",
       "      <th>Trust..Government.Corruption.</th>\n",
       "      <th>Dystopia.Residual</th>\n",
       "    </tr>\n",
       "  </thead>\n",
       "  <tbody>\n",
       "    <tr>\n",
       "      <th>0</th>\n",
       "      <td>Norway</td>\n",
       "      <td>1</td>\n",
       "      <td>7.537</td>\n",
       "      <td>7.594445</td>\n",
       "      <td>7.479556</td>\n",
       "      <td>1.616463</td>\n",
       "      <td>1.533524</td>\n",
       "      <td>0.796667</td>\n",
       "      <td>0.635423</td>\n",
       "      <td>0.362012</td>\n",
       "      <td>0.315964</td>\n",
       "      <td>2.277027</td>\n",
       "    </tr>\n",
       "    <tr>\n",
       "      <th>1</th>\n",
       "      <td>Denmark</td>\n",
       "      <td>2</td>\n",
       "      <td>7.522</td>\n",
       "      <td>7.581728</td>\n",
       "      <td>7.462272</td>\n",
       "      <td>1.482383</td>\n",
       "      <td>1.551122</td>\n",
       "      <td>0.792566</td>\n",
       "      <td>0.626007</td>\n",
       "      <td>0.355280</td>\n",
       "      <td>0.400770</td>\n",
       "      <td>2.313707</td>\n",
       "    </tr>\n",
       "    <tr>\n",
       "      <th>2</th>\n",
       "      <td>Iceland</td>\n",
       "      <td>3</td>\n",
       "      <td>7.504</td>\n",
       "      <td>7.622030</td>\n",
       "      <td>7.385970</td>\n",
       "      <td>1.480633</td>\n",
       "      <td>1.610574</td>\n",
       "      <td>0.833552</td>\n",
       "      <td>0.627163</td>\n",
       "      <td>0.475540</td>\n",
       "      <td>0.153527</td>\n",
       "      <td>2.322715</td>\n",
       "    </tr>\n",
       "    <tr>\n",
       "      <th>3</th>\n",
       "      <td>Switzerland</td>\n",
       "      <td>4</td>\n",
       "      <td>7.494</td>\n",
       "      <td>7.561772</td>\n",
       "      <td>7.426227</td>\n",
       "      <td>1.564980</td>\n",
       "      <td>1.516912</td>\n",
       "      <td>0.858131</td>\n",
       "      <td>0.620071</td>\n",
       "      <td>0.290549</td>\n",
       "      <td>0.367007</td>\n",
       "      <td>2.276716</td>\n",
       "    </tr>\n",
       "    <tr>\n",
       "      <th>4</th>\n",
       "      <td>Finland</td>\n",
       "      <td>5</td>\n",
       "      <td>7.469</td>\n",
       "      <td>7.527542</td>\n",
       "      <td>7.410458</td>\n",
       "      <td>1.443572</td>\n",
       "      <td>1.540247</td>\n",
       "      <td>0.809158</td>\n",
       "      <td>0.617951</td>\n",
       "      <td>0.245483</td>\n",
       "      <td>0.382612</td>\n",
       "      <td>2.430182</td>\n",
       "    </tr>\n",
       "  </tbody>\n",
       "</table>\n",
       "</div>"
      ],
      "text/plain": [
       "       Country  Happiness.Rank  Happiness.Score  Whisker.high  Whisker.low  \\\n",
       "0       Norway               1            7.537      7.594445     7.479556   \n",
       "1      Denmark               2            7.522      7.581728     7.462272   \n",
       "2      Iceland               3            7.504      7.622030     7.385970   \n",
       "3  Switzerland               4            7.494      7.561772     7.426227   \n",
       "4      Finland               5            7.469      7.527542     7.410458   \n",
       "\n",
       "   Economy..GDP.per.Capita.    Family  Health..Life.Expectancy.   Freedom  \\\n",
       "0                  1.616463  1.533524                  0.796667  0.635423   \n",
       "1                  1.482383  1.551122                  0.792566  0.626007   \n",
       "2                  1.480633  1.610574                  0.833552  0.627163   \n",
       "3                  1.564980  1.516912                  0.858131  0.620071   \n",
       "4                  1.443572  1.540247                  0.809158  0.617951   \n",
       "\n",
       "   Generosity  Trust..Government.Corruption.  Dystopia.Residual  \n",
       "0    0.362012                       0.315964           2.277027  \n",
       "1    0.355280                       0.400770           2.313707  \n",
       "2    0.475540                       0.153527           2.322715  \n",
       "3    0.290549                       0.367007           2.276716  \n",
       "4    0.245483                       0.382612           2.430182  "
      ]
     },
     "execution_count": 16,
     "metadata": {},
     "output_type": "execute_result"
    }
   ],
   "source": [
    "data_2017.head()"
   ]
  },
  {
   "cell_type": "markdown",
   "id": "99eaca2f",
   "metadata": {},
   "source": [
    "## Revision de valores nulos en los datasets (2017)"
   ]
  },
  {
   "cell_type": "code",
   "execution_count": 17,
   "id": "fe5797bd",
   "metadata": {},
   "outputs": [
    {
     "name": "stdout",
     "output_type": "stream",
     "text": [
      "Country                          0\n",
      "Happiness.Rank                   0\n",
      "Happiness.Score                  0\n",
      "Whisker.high                     0\n",
      "Whisker.low                      0\n",
      "Economy..GDP.per.Capita.         0\n",
      "Family                           0\n",
      "Health..Life.Expectancy.         0\n",
      "Freedom                          0\n",
      "Generosity                       0\n",
      "Trust..Government.Corruption.    0\n",
      "Dystopia.Residual                0\n",
      "dtype: int64\n"
     ]
    }
   ],
   "source": [
    "print(data_2017.isnull().sum())"
   ]
  },
  {
   "cell_type": "markdown",
   "id": "ce37f75b",
   "metadata": {},
   "source": [
    "## Renombre de columnas buscando mantener el mismo nombre entre columnas en nuestros datasets (2017)"
   ]
  },
  {
   "cell_type": "code",
   "execution_count": 18,
   "id": "ad8c257f",
   "metadata": {
    "scrolled": true
   },
   "outputs": [
    {
     "name": "stdout",
     "output_type": "stream",
     "text": [
      "       Country  Happiness Rank  Happiness Score  Whisker high  Whisker low  \\\n",
      "0       Norway               1            7.537      7.594445     7.479556   \n",
      "1      Denmark               2            7.522      7.581728     7.462272   \n",
      "2      Iceland               3            7.504      7.622030     7.385970   \n",
      "3  Switzerland               4            7.494      7.561772     7.426227   \n",
      "4      Finland               5            7.469      7.527542     7.410458   \n",
      "\n",
      "   Economy (GDP per Capita)    Family  Health (Life Expectancy)   Freedom  \\\n",
      "0                  1.616463  1.533524                  0.796667  0.635423   \n",
      "1                  1.482383  1.551122                  0.792566  0.626007   \n",
      "2                  1.480633  1.610574                  0.833552  0.627163   \n",
      "3                  1.564980  1.516912                  0.858131  0.620071   \n",
      "4                  1.443572  1.540247                  0.809158  0.617951   \n",
      "\n",
      "   Generosity  Trust (Government Corruption)  Dystopia Residual  \n",
      "0    0.362012                       0.315964           2.277027  \n",
      "1    0.355280                       0.400770           2.313707  \n",
      "2    0.475540                       0.153527           2.322715  \n",
      "3    0.290549                       0.367007           2.276716  \n",
      "4    0.245483                       0.382612           2.430182  \n"
     ]
    }
   ],
   "source": [
    "# Renombrar las columnas del DataFrame data_2017\n",
    "data_2017 = data_2017.rename(columns={\n",
    "    'Happiness.Rank': 'Happiness Rank',\n",
    "    'Happiness.Score': 'Happiness Score',\n",
    "    'Economy..GDP.per.Capita.': 'Economy (GDP per Capita)',\n",
    "    'Health..Life.Expectancy.': 'Health (Life Expectancy)',\n",
    "    'Trust..Government.Corruption.': 'Trust (Government Corruption)'\n",
    "})\n",
    "\n",
    "# Eliminar los puntos en los nombres de las columnas y reemplazarlos con espacios\n",
    "data_2017.columns = data_2017.columns.str.replace('.', ' ')\n",
    "\n",
    "# Mostrar las primeras filas del DataFrame con los nombres de las columnas limpias\n",
    "print(data_2017.head())\n"
   ]
  },
  {
   "cell_type": "markdown",
   "id": "857a8694",
   "metadata": {},
   "source": [
    "## Normalizacion (2017)"
   ]
  },
  {
   "cell_type": "code",
   "execution_count": 19,
   "id": "b6505370",
   "metadata": {},
   "outputs": [
    {
     "name": "stdout",
     "output_type": "stream",
     "text": [
      "       country  happiness rank  happiness score  whisker high  whisker low  \\\n",
      "0       Norway               1            7.537      7.594445     7.479556   \n",
      "1      Denmark               2            7.522      7.581728     7.462272   \n",
      "2      Iceland               3            7.504      7.622030     7.385970   \n",
      "3  Switzerland               4            7.494      7.561772     7.426227   \n",
      "4      Finland               5            7.469      7.527542     7.410458   \n",
      "\n",
      "   economy (gdp per capita)    family  health (life expectancy)   freedom  \\\n",
      "0                  1.616463  1.533524                  0.796667  0.635423   \n",
      "1                  1.482383  1.551122                  0.792566  0.626007   \n",
      "2                  1.480633  1.610574                  0.833552  0.627163   \n",
      "3                  1.564980  1.516912                  0.858131  0.620071   \n",
      "4                  1.443572  1.540247                  0.809158  0.617951   \n",
      "\n",
      "   generosity  trust (government corruption)  dystopia residual  \n",
      "0    0.362012                       0.315964           2.277027  \n",
      "1    0.355280                       0.400770           2.313707  \n",
      "2    0.475540                       0.153527           2.322715  \n",
      "3    0.290549                       0.367007           2.276716  \n",
      "4    0.245483                       0.382612           2.430182  \n"
     ]
    }
   ],
   "source": [
    "# Convertir los nombres de las columnas a minúsculas\n",
    "data_2017.columns = data_2017.columns.str.lower()\n",
    "\n",
    "# Mostrar las primeras filas del DataFrame con los nombres de las columnas en minúsculas\n",
    "print(data_2017.head())\n"
   ]
  },
  {
   "cell_type": "markdown",
   "id": "ad6c05ff",
   "metadata": {},
   "source": [
    "## Analisis de las columnas del dataset (2018)"
   ]
  },
  {
   "cell_type": "code",
   "execution_count": 20,
   "id": "c99567fe",
   "metadata": {},
   "outputs": [
    {
     "data": {
      "text/html": [
       "<div>\n",
       "<style scoped>\n",
       "    .dataframe tbody tr th:only-of-type {\n",
       "        vertical-align: middle;\n",
       "    }\n",
       "\n",
       "    .dataframe tbody tr th {\n",
       "        vertical-align: top;\n",
       "    }\n",
       "\n",
       "    .dataframe thead th {\n",
       "        text-align: right;\n",
       "    }\n",
       "</style>\n",
       "<table border=\"1\" class=\"dataframe\">\n",
       "  <thead>\n",
       "    <tr style=\"text-align: right;\">\n",
       "      <th></th>\n",
       "      <th>Overall rank</th>\n",
       "      <th>Country or region</th>\n",
       "      <th>Score</th>\n",
       "      <th>GDP per capita</th>\n",
       "      <th>Social support</th>\n",
       "      <th>Healthy life expectancy</th>\n",
       "      <th>Freedom to make life choices</th>\n",
       "      <th>Generosity</th>\n",
       "      <th>Perceptions of corruption</th>\n",
       "    </tr>\n",
       "  </thead>\n",
       "  <tbody>\n",
       "    <tr>\n",
       "      <th>0</th>\n",
       "      <td>1</td>\n",
       "      <td>Finland</td>\n",
       "      <td>7.632</td>\n",
       "      <td>1.305</td>\n",
       "      <td>1.592</td>\n",
       "      <td>0.874</td>\n",
       "      <td>0.681</td>\n",
       "      <td>0.202</td>\n",
       "      <td>0.393</td>\n",
       "    </tr>\n",
       "    <tr>\n",
       "      <th>1</th>\n",
       "      <td>2</td>\n",
       "      <td>Norway</td>\n",
       "      <td>7.594</td>\n",
       "      <td>1.456</td>\n",
       "      <td>1.582</td>\n",
       "      <td>0.861</td>\n",
       "      <td>0.686</td>\n",
       "      <td>0.286</td>\n",
       "      <td>0.340</td>\n",
       "    </tr>\n",
       "    <tr>\n",
       "      <th>2</th>\n",
       "      <td>3</td>\n",
       "      <td>Denmark</td>\n",
       "      <td>7.555</td>\n",
       "      <td>1.351</td>\n",
       "      <td>1.590</td>\n",
       "      <td>0.868</td>\n",
       "      <td>0.683</td>\n",
       "      <td>0.284</td>\n",
       "      <td>0.408</td>\n",
       "    </tr>\n",
       "    <tr>\n",
       "      <th>3</th>\n",
       "      <td>4</td>\n",
       "      <td>Iceland</td>\n",
       "      <td>7.495</td>\n",
       "      <td>1.343</td>\n",
       "      <td>1.644</td>\n",
       "      <td>0.914</td>\n",
       "      <td>0.677</td>\n",
       "      <td>0.353</td>\n",
       "      <td>0.138</td>\n",
       "    </tr>\n",
       "    <tr>\n",
       "      <th>4</th>\n",
       "      <td>5</td>\n",
       "      <td>Switzerland</td>\n",
       "      <td>7.487</td>\n",
       "      <td>1.420</td>\n",
       "      <td>1.549</td>\n",
       "      <td>0.927</td>\n",
       "      <td>0.660</td>\n",
       "      <td>0.256</td>\n",
       "      <td>0.357</td>\n",
       "    </tr>\n",
       "  </tbody>\n",
       "</table>\n",
       "</div>"
      ],
      "text/plain": [
       "   Overall rank Country or region  Score  GDP per capita  Social support  \\\n",
       "0             1           Finland  7.632           1.305           1.592   \n",
       "1             2            Norway  7.594           1.456           1.582   \n",
       "2             3           Denmark  7.555           1.351           1.590   \n",
       "3             4           Iceland  7.495           1.343           1.644   \n",
       "4             5       Switzerland  7.487           1.420           1.549   \n",
       "\n",
       "   Healthy life expectancy  Freedom to make life choices  Generosity  \\\n",
       "0                    0.874                         0.681       0.202   \n",
       "1                    0.861                         0.686       0.286   \n",
       "2                    0.868                         0.683       0.284   \n",
       "3                    0.914                         0.677       0.353   \n",
       "4                    0.927                         0.660       0.256   \n",
       "\n",
       "   Perceptions of corruption  \n",
       "0                      0.393  \n",
       "1                      0.340  \n",
       "2                      0.408  \n",
       "3                      0.138  \n",
       "4                      0.357  "
      ]
     },
     "execution_count": 20,
     "metadata": {},
     "output_type": "execute_result"
    }
   ],
   "source": [
    "data_2018.head()"
   ]
  },
  {
   "cell_type": "markdown",
   "id": "d4ff13ac",
   "metadata": {},
   "source": [
    "## Revision de valores nulos en los datasets (2018)"
   ]
  },
  {
   "cell_type": "code",
   "execution_count": 21,
   "id": "939936ff",
   "metadata": {},
   "outputs": [
    {
     "name": "stdout",
     "output_type": "stream",
     "text": [
      "Overall rank                    0\n",
      "Country or region               0\n",
      "Score                           0\n",
      "GDP per capita                  0\n",
      "Social support                  0\n",
      "Healthy life expectancy         0\n",
      "Freedom to make life choices    0\n",
      "Generosity                      0\n",
      "Perceptions of corruption       1\n",
      "dtype: int64\n"
     ]
    }
   ],
   "source": [
    "print(data_2018.isnull().sum())"
   ]
  },
  {
   "cell_type": "markdown",
   "id": "ea3ce485",
   "metadata": {},
   "source": [
    "## Renombre de columnas (2018)"
   ]
  },
  {
   "cell_type": "code",
   "execution_count": 22,
   "id": "7fb0fb40",
   "metadata": {},
   "outputs": [],
   "source": [
    "# Renombrar las columnas del DataFrame data_2017\n",
    "data_2018 = data_2018.rename(columns={\n",
    "    'Overall rank': 'Happiness Rank',\n",
    "    'Country or region': 'Country',\n",
    "    'Score': 'Happiness Score',\n",
    "    'GDP per capita': 'Economy (GDP per Capita)',\n",
    "    'Freedom to make life choices': 'Freedom',\n",
    "    'Perceptions of corruption': 'Trust (Government Corruption)',\n",
    "    'Healthy life expectancy': 'Health (Life Expectancy)',\n",
    "    'Social support': 'Family'\n",
    "})"
   ]
  },
  {
   "cell_type": "markdown",
   "id": "d5cb0d0c",
   "metadata": {},
   "source": [
    "## Normalizacion de campos (2018)"
   ]
  },
  {
   "cell_type": "code",
   "execution_count": 23,
   "id": "d7e4e49f",
   "metadata": {},
   "outputs": [
    {
     "name": "stdout",
     "output_type": "stream",
     "text": [
      "   happiness rank      country  happiness score  economy (gdp per capita)  \\\n",
      "0               1      Finland            7.632                     1.305   \n",
      "1               2       Norway            7.594                     1.456   \n",
      "2               3      Denmark            7.555                     1.351   \n",
      "3               4      Iceland            7.495                     1.343   \n",
      "4               5  Switzerland            7.487                     1.420   \n",
      "\n",
      "   family  health (life expectancy)  freedom  generosity  \\\n",
      "0   1.592                     0.874    0.681       0.202   \n",
      "1   1.582                     0.861    0.686       0.286   \n",
      "2   1.590                     0.868    0.683       0.284   \n",
      "3   1.644                     0.914    0.677       0.353   \n",
      "4   1.549                     0.927    0.660       0.256   \n",
      "\n",
      "   trust (government corruption)  \n",
      "0                          0.393  \n",
      "1                          0.340  \n",
      "2                          0.408  \n",
      "3                          0.138  \n",
      "4                          0.357  \n"
     ]
    }
   ],
   "source": [
    "data_2018.columns = data_2018.columns.str.lower()\n",
    "\n",
    "print(data_2018.head())\n"
   ]
  },
  {
   "cell_type": "markdown",
   "id": "bb1be653",
   "metadata": {},
   "source": [
    "## Analisis de las columnas (2019)"
   ]
  },
  {
   "cell_type": "code",
   "execution_count": 24,
   "id": "32b793ed",
   "metadata": {},
   "outputs": [
    {
     "data": {
      "text/html": [
       "<div>\n",
       "<style scoped>\n",
       "    .dataframe tbody tr th:only-of-type {\n",
       "        vertical-align: middle;\n",
       "    }\n",
       "\n",
       "    .dataframe tbody tr th {\n",
       "        vertical-align: top;\n",
       "    }\n",
       "\n",
       "    .dataframe thead th {\n",
       "        text-align: right;\n",
       "    }\n",
       "</style>\n",
       "<table border=\"1\" class=\"dataframe\">\n",
       "  <thead>\n",
       "    <tr style=\"text-align: right;\">\n",
       "      <th></th>\n",
       "      <th>Overall rank</th>\n",
       "      <th>Country or region</th>\n",
       "      <th>Score</th>\n",
       "      <th>GDP per capita</th>\n",
       "      <th>Social support</th>\n",
       "      <th>Healthy life expectancy</th>\n",
       "      <th>Freedom to make life choices</th>\n",
       "      <th>Generosity</th>\n",
       "      <th>Perceptions of corruption</th>\n",
       "    </tr>\n",
       "  </thead>\n",
       "  <tbody>\n",
       "    <tr>\n",
       "      <th>0</th>\n",
       "      <td>1</td>\n",
       "      <td>Finland</td>\n",
       "      <td>7.769</td>\n",
       "      <td>1.340</td>\n",
       "      <td>1.587</td>\n",
       "      <td>0.986</td>\n",
       "      <td>0.596</td>\n",
       "      <td>0.153</td>\n",
       "      <td>0.393</td>\n",
       "    </tr>\n",
       "    <tr>\n",
       "      <th>1</th>\n",
       "      <td>2</td>\n",
       "      <td>Denmark</td>\n",
       "      <td>7.600</td>\n",
       "      <td>1.383</td>\n",
       "      <td>1.573</td>\n",
       "      <td>0.996</td>\n",
       "      <td>0.592</td>\n",
       "      <td>0.252</td>\n",
       "      <td>0.410</td>\n",
       "    </tr>\n",
       "    <tr>\n",
       "      <th>2</th>\n",
       "      <td>3</td>\n",
       "      <td>Norway</td>\n",
       "      <td>7.554</td>\n",
       "      <td>1.488</td>\n",
       "      <td>1.582</td>\n",
       "      <td>1.028</td>\n",
       "      <td>0.603</td>\n",
       "      <td>0.271</td>\n",
       "      <td>0.341</td>\n",
       "    </tr>\n",
       "    <tr>\n",
       "      <th>3</th>\n",
       "      <td>4</td>\n",
       "      <td>Iceland</td>\n",
       "      <td>7.494</td>\n",
       "      <td>1.380</td>\n",
       "      <td>1.624</td>\n",
       "      <td>1.026</td>\n",
       "      <td>0.591</td>\n",
       "      <td>0.354</td>\n",
       "      <td>0.118</td>\n",
       "    </tr>\n",
       "    <tr>\n",
       "      <th>4</th>\n",
       "      <td>5</td>\n",
       "      <td>Netherlands</td>\n",
       "      <td>7.488</td>\n",
       "      <td>1.396</td>\n",
       "      <td>1.522</td>\n",
       "      <td>0.999</td>\n",
       "      <td>0.557</td>\n",
       "      <td>0.322</td>\n",
       "      <td>0.298</td>\n",
       "    </tr>\n",
       "  </tbody>\n",
       "</table>\n",
       "</div>"
      ],
      "text/plain": [
       "   Overall rank Country or region  Score  GDP per capita  Social support  \\\n",
       "0             1           Finland  7.769           1.340           1.587   \n",
       "1             2           Denmark  7.600           1.383           1.573   \n",
       "2             3            Norway  7.554           1.488           1.582   \n",
       "3             4           Iceland  7.494           1.380           1.624   \n",
       "4             5       Netherlands  7.488           1.396           1.522   \n",
       "\n",
       "   Healthy life expectancy  Freedom to make life choices  Generosity  \\\n",
       "0                    0.986                         0.596       0.153   \n",
       "1                    0.996                         0.592       0.252   \n",
       "2                    1.028                         0.603       0.271   \n",
       "3                    1.026                         0.591       0.354   \n",
       "4                    0.999                         0.557       0.322   \n",
       "\n",
       "   Perceptions of corruption  \n",
       "0                      0.393  \n",
       "1                      0.410  \n",
       "2                      0.341  \n",
       "3                      0.118  \n",
       "4                      0.298  "
      ]
     },
     "execution_count": 24,
     "metadata": {},
     "output_type": "execute_result"
    }
   ],
   "source": [
    "data_2019.head()"
   ]
  },
  {
   "cell_type": "markdown",
   "id": "105a6e56",
   "metadata": {},
   "source": [
    "## Revision de valores nulos (2019)"
   ]
  },
  {
   "cell_type": "code",
   "execution_count": 25,
   "id": "9b22d826",
   "metadata": {},
   "outputs": [
    {
     "name": "stdout",
     "output_type": "stream",
     "text": [
      "Overall rank                    0\n",
      "Country or region               0\n",
      "Score                           0\n",
      "GDP per capita                  0\n",
      "Social support                  0\n",
      "Healthy life expectancy         0\n",
      "Freedom to make life choices    0\n",
      "Generosity                      0\n",
      "Perceptions of corruption       0\n",
      "dtype: int64\n"
     ]
    }
   ],
   "source": [
    "print(data_2019.isnull().sum())"
   ]
  },
  {
   "cell_type": "markdown",
   "id": "0c86adac",
   "metadata": {},
   "source": [
    "## Renombre de columnas (2019)"
   ]
  },
  {
   "cell_type": "code",
   "execution_count": 26,
   "id": "c1c1ff7b",
   "metadata": {},
   "outputs": [],
   "source": [
    "# Renombrando las columnas del DataFrame data_2017\n",
    "data_2019 = data_2019.rename(columns={\n",
    "    'Overall rank': 'Happiness Rank',\n",
    "    'Country or region': 'Country',\n",
    "    'Score': 'Happiness Score',\n",
    "    'GDP per capita': 'Economy (GDP per Capita)',\n",
    "    'Freedom to make life choices': 'Freedom',\n",
    "    'Perceptions of corruption': 'Trust (Government Corruption)',\n",
    "    'Healthy life expectancy': 'Health (Life Expectancy)',\n",
    "    'Social support': 'Family'\n",
    "})"
   ]
  },
  {
   "cell_type": "markdown",
   "id": "d05a1077",
   "metadata": {},
   "source": [
    "## Normalizacion de columnas (2019)"
   ]
  },
  {
   "cell_type": "code",
   "execution_count": 27,
   "id": "88145c3e",
   "metadata": {},
   "outputs": [
    {
     "name": "stdout",
     "output_type": "stream",
     "text": [
      "   happiness rank      country  happiness score  economy (gdp per capita)  \\\n",
      "0               1      Finland            7.769                     1.340   \n",
      "1               2      Denmark            7.600                     1.383   \n",
      "2               3       Norway            7.554                     1.488   \n",
      "3               4      Iceland            7.494                     1.380   \n",
      "4               5  Netherlands            7.488                     1.396   \n",
      "\n",
      "   family  health (life expectancy)  freedom  generosity  \\\n",
      "0   1.587                     0.986    0.596       0.153   \n",
      "1   1.573                     0.996    0.592       0.252   \n",
      "2   1.582                     1.028    0.603       0.271   \n",
      "3   1.624                     1.026    0.591       0.354   \n",
      "4   1.522                     0.999    0.557       0.322   \n",
      "\n",
      "   trust (government corruption)  \n",
      "0                          0.393  \n",
      "1                          0.410  \n",
      "2                          0.341  \n",
      "3                          0.118  \n",
      "4                          0.298  \n"
     ]
    }
   ],
   "source": [
    "data_2019.columns = data_2019.columns.str.lower()\n",
    "\n",
    "print(data_2019.head())\n"
   ]
  },
  {
   "cell_type": "markdown",
   "id": "7b830885",
   "metadata": {},
   "source": [
    "## Agregamos un nuevo campo para identificar los registros por año"
   ]
  },
  {
   "cell_type": "code",
   "execution_count": 28,
   "id": "243d6cd7",
   "metadata": {},
   "outputs": [],
   "source": [
    "# Agregando columna 'Year' para cada dataframe\n",
    "data_2015['year'] = 2015\n",
    "data_2016['year'] = 2016\n",
    "data_2017['year'] = 2017\n",
    "data_2018['year'] = 2018\n",
    "data_2019['year'] = 2019\n"
   ]
  },
  {
   "cell_type": "markdown",
   "id": "09fd3d1d",
   "metadata": {},
   "source": [
    "## Merge de todos los datasets"
   ]
  },
  {
   "cell_type": "code",
   "execution_count": 29,
   "id": "71268d35",
   "metadata": {},
   "outputs": [
    {
     "name": "stdout",
     "output_type": "stream",
     "text": [
      "       country  happiness rank  happiness score  economy (gdp per capita)  \\\n",
      "0  Switzerland               1            7.587                   1.39651   \n",
      "1      Iceland               2            7.561                   1.30232   \n",
      "2      Denmark               3            7.527                   1.32548   \n",
      "3       Norway               4            7.522                   1.45900   \n",
      "4       Canada               5            7.427                   1.32629   \n",
      "\n",
      "    family  health (life expectancy)  freedom  trust (government corruption)  \\\n",
      "0  1.34951                   0.94143  0.66557                        0.41978   \n",
      "1  1.40223                   0.94784  0.62877                        0.14145   \n",
      "2  1.36058                   0.87464  0.64938                        0.48357   \n",
      "3  1.33095                   0.88521  0.66973                        0.36503   \n",
      "4  1.32261                   0.90563  0.63297                        0.32957   \n",
      "\n",
      "   generosity  year  \n",
      "0     0.29678  2015  \n",
      "1     0.43630  2015  \n",
      "2     0.34139  2015  \n",
      "3     0.34699  2015  \n",
      "4     0.45811  2015  \n",
      "<class 'pandas.core.frame.DataFrame'>\n",
      "RangeIndex: 782 entries, 0 to 781\n",
      "Data columns (total 10 columns):\n",
      " #   Column                         Non-Null Count  Dtype  \n",
      "---  ------                         --------------  -----  \n",
      " 0   country                        782 non-null    object \n",
      " 1   happiness rank                 782 non-null    int64  \n",
      " 2   happiness score                782 non-null    float64\n",
      " 3   economy (gdp per capita)       782 non-null    float64\n",
      " 4   family                         782 non-null    float64\n",
      " 5   health (life expectancy)       782 non-null    float64\n",
      " 6   freedom                        782 non-null    float64\n",
      " 7   trust (government corruption)  781 non-null    float64\n",
      " 8   generosity                     782 non-null    float64\n",
      " 9   year                           782 non-null    int64  \n",
      "dtypes: float64(7), int64(2), object(1)\n",
      "memory usage: 61.2+ KB\n",
      "None\n",
      "(782, 10)\n"
     ]
    }
   ],
   "source": [
    "# Lista de dataframes originales\n",
    "models_dataframes = [data_2015, data_2016, data_2017, data_2018, data_2019]\n",
    "\n",
    "# Merge\n",
    "model_dataset = pd.concat(models_dataframes, ignore_index=True)\n",
    "\n",
    "# Columnas a mantener\n",
    "columnas_a_mantener = ['country', 'happiness rank', 'happiness score', 'economy (gdp per capita)', 'family', 'health (life expectancy)', 'freedom', 'trust (government corruption)', 'generosity', 'year']\n",
    "\n",
    "# Mantener solo las columnas especificadas\n",
    "model_dataset = model_dataset[columnas_a_mantener]\n",
    "\n",
    "print(model_dataset.head())\n",
    "print(model_dataset.info())\n",
    "print(model_dataset.shape)\n",
    "\n"
   ]
  },
  {
   "cell_type": "markdown",
   "id": "1e8cd41b",
   "metadata": {},
   "source": [
    "## Revision de valores nulos en model_dataset"
   ]
  },
  {
   "cell_type": "code",
   "execution_count": 30,
   "id": "84f87863",
   "metadata": {},
   "outputs": [
    {
     "name": "stdout",
     "output_type": "stream",
     "text": [
      "country                          0\n",
      "happiness rank                   0\n",
      "happiness score                  0\n",
      "economy (gdp per capita)         0\n",
      "family                           0\n",
      "health (life expectancy)         0\n",
      "freedom                          0\n",
      "trust (government corruption)    1\n",
      "generosity                       0\n",
      "year                             0\n",
      "dtype: int64\n"
     ]
    }
   ],
   "source": [
    "print(model_dataset.isnull().sum())"
   ]
  },
  {
   "cell_type": "markdown",
   "id": "382d41ec",
   "metadata": {},
   "source": [
    "## Llenamos el valor nulo con el valor medio de la columna 'trust (government corruption)'"
   ]
  },
  {
   "cell_type": "code",
   "execution_count": 31,
   "id": "70073c15",
   "metadata": {},
   "outputs": [
    {
     "name": "stdout",
     "output_type": "stream",
     "text": [
      "country                          0\n",
      "happiness rank                   0\n",
      "happiness score                  0\n",
      "economy (gdp per capita)         0\n",
      "family                           0\n",
      "health (life expectancy)         0\n",
      "freedom                          0\n",
      "trust (government corruption)    0\n",
      "generosity                       0\n",
      "year                             0\n",
      "dtype: int64\n"
     ]
    }
   ],
   "source": [
    "valor_medio = model_dataset['trust (government corruption)'].mean()\n",
    "model_dataset['trust (government corruption)'] = model_dataset['trust (government corruption)'].fillna(valor_medio)\n",
    "\n",
    "print(model_dataset.isnull().sum())\n"
   ]
  },
  {
   "cell_type": "markdown",
   "id": "7a095e18",
   "metadata": {},
   "source": [
    "## Matriz de correlacion"
   ]
  },
  {
   "cell_type": "code",
   "execution_count": 32,
   "id": "13f6f292",
   "metadata": {},
   "outputs": [
    {
     "data": {
      "image/png": "[encoded data removed]",
      "text/plain": [
       "<Figure size 1000x800 with 2 Axes>"
      ]
     },
     "metadata": {},
     "output_type": "display_data"
    }
   ],
   "source": [
    "# Crear un DataFrame con los campos numéricos\n",
    "numeric_data = {\n",
    "    'happiness rank': model_dataset['happiness rank'],\n",
    "    'happiness score': model_dataset['happiness score'],\n",
    "    'economy (gdp per capita)': model_dataset['economy (gdp per capita)'],\n",
    "    'family': model_dataset['family'],\n",
    "    'health (life expectancy)': model_dataset['health (life expectancy)'],\n",
    "    'freedom': model_dataset['freedom'],\n",
    "    'trust (government corruption)': model_dataset['trust (government corruption)'],\n",
    "    'generosity': model_dataset['generosity'],\n",
    "    'year': model_dataset['year']\n",
    "}\n",
    "numeric_df = pd.DataFrame(numeric_data)\n",
    "\n",
    "# Calcular la matriz de correlación\n",
    "correlation_matrix = numeric_df.corr()\n",
    "\n",
    "# Visualizar la matriz de correlación como un mapa de calor\n",
    "plt.figure(figsize=(10, 8))\n",
    "sns.heatmap(correlation_matrix, annot=True, cmap='coolwarm', fmt=\".2f\", linewidths=0.5)\n",
    "plt.title('Matriz de Correlación')\n",
    "plt.show()\n",
    "\n",
    "# Imprimir la matriz de correlación como texto\n",
    "# print(\"Matriz de Correlación:\")\n",
    "# print(correlation_matrix)\n",
    "\n",
    "\n",
    "\n"
   ]
  },
  {
   "cell_type": "markdown",
   "id": "dcf861e7",
   "metadata": {},
   "source": [
    "## Nuevo dataframe \"campos seleccionados para el modelo\""
   ]
  },
  {
   "cell_type": "code",
   "execution_count": 33,
   "id": "7be75169",
   "metadata": {},
   "outputs": [
    {
     "name": "stdout",
     "output_type": "stream",
     "text": [
      "   economy (gdp per capita)   family  health (life expectancy)  freedom  \\\n",
      "0                   1.39651  1.34951                   0.94143  0.66557   \n",
      "1                   1.30232  1.40223                   0.94784  0.62877   \n",
      "2                   1.32548  1.36058                   0.87464  0.64938   \n",
      "3                   1.45900  1.33095                   0.88521  0.66973   \n",
      "4                   1.32629  1.32261                   0.90563  0.63297   \n",
      "\n",
      "   trust (government corruption)  happiness score  \n",
      "0                        0.41978            7.587  \n",
      "1                        0.14145            7.561  \n",
      "2                        0.48357            7.527  \n",
      "3                        0.36503            7.522  \n",
      "4                        0.32957            7.427  \n"
     ]
    }
   ],
   "source": [
    "# Campos seleccionados para el modelo\n",
    "campos_seleccionados = ['economy (gdp per capita)', 'family', 'health (life expectancy)', 'freedom', 'trust (government corruption)', 'happiness score']\n",
    "\n",
    "# Dataframe con los campos seleccionados\n",
    "train_model = model_dataset[campos_seleccionados].copy()\n",
    "\n",
    "print(train_model.head())\n"
   ]
  },
  {
   "cell_type": "markdown",
   "id": "c5922a60",
   "metadata": {},
   "source": [
    "## Entrenamiento modelo "
   ]
  },
  {
   "cell_type": "code",
   "execution_count": 34,
   "id": "ccea64c5",
   "metadata": {},
   "outputs": [
    {
     "name": "stdout",
     "output_type": "stream",
     "text": [
      "Error cuadrático medio (MSE) en el conjunto de prueba: 0.2686580156925615\n",
      "Coeficiente de determinación R^2: 0.7791328291888953\n"
     ]
    }
   ],
   "source": [
    "from sklearn.model_selection import train_test_split\n",
    "from sklearn.ensemble import RandomForestRegressor\n",
    "from sklearn.metrics import mean_squared_error, r2_score\n",
    "\n",
    "# Dividir el conjunto de datos en características (X) y variable objetivo (y)\n",
    "X = train_model.drop(\"happiness score\", axis=1)\n",
    "y = train_model[\"happiness score\"]\n",
    "\n",
    "# Dividir los datos en conjuntos de entrenamiento (70%) y prueba (20%)\n",
    "X_train, X_test, y_train, y_test = train_test_split(X, y, test_size=0.2, random_state=42)\n",
    "\n",
    "# Inicializar el modelo Random Forest Regressor\n",
    "modelo_random_forest = RandomForestRegressor(n_estimators=100, random_state=42)\n",
    "\n",
    "# Entrenar el modelo con el conjunto de entrenamiento\n",
    "modelo_random_forest.fit(X_train, y_train)\n",
    "\n",
    "# Predecir la variable objetivo en el conjunto de prueba\n",
    "predicciones = modelo_random_forest.predict(X_test)\n",
    "\n",
    "# Calcular el error cuadrático medio (MSE) en el conjunto de prueba\n",
    "mse = mean_squared_error(y_test, predicciones)\n",
    "print(\"Error cuadrático medio (MSE) en el conjunto de prueba:\", mse)\n",
    "\n",
    "# Calcular el coeficiente de determinación R^2\n",
    "r2 = r2_score(y_test, predicciones)\n",
    "print(\"Coeficiente de determinación R^2:\", r2)\n"
   ]
  },
  {
   "cell_type": "markdown",
   "id": "aecc9434",
   "metadata": {},
   "source": [
    "## Guardar modelo "
   ]
  },
  {
   "cell_type": "code",
   "execution_count": 35,
   "id": "05139bfc",
   "metadata": {},
   "outputs": [
    {
     "data": {
      "text/plain": [
       "['../model/train_model_forest_regressor.pkl']"
      ]
     },
     "execution_count": 35,
     "metadata": {},
     "output_type": "execute_result"
    }
   ],
   "source": [
    "joblib_file = \"../model/train_model_forest_regressor.pkl\"\n",
    "\n",
    "joblib.dump(modelo_random_forest, joblib_file)\n"
   ]
  },
  {
   "cell_type": "code",
   "execution_count": null,
   "id": "ebdd32bf",
   "metadata": {},
   "outputs": [],
   "source": []
  }
 ],
 "metadata": {
  "kernelspec": {
   "display_name": "Python 3 (ipykernel)",
   "language": "python",
   "name": "python3"
  },
  "language_info": {
   "codemirror_mode": {
    "name": "ipython",
    "version": 3
   },
   "file_extension": ".py",
   "mimetype": "text/x-python",
   "name": "python",
   "nbconvert_exporter": "python",
   "pygments_lexer": "ipython3",
   "version": "3.10.14"
  }
 },
 "nbformat": 4,
 "nbformat_minor": 5
}
